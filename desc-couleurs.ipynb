{
 "cells": [
  {
   "cell_type": "code",
   "execution_count": 11,
   "metadata": {},
   "outputs": [],
   "source": [
    "import mysite.polls.couleurs_convert as conv\n",
    "import numpy as np\n",
    "import matplotlib.pyplot as plt"
   ]
  },
  {
   "cell_type": "code",
   "execution_count": 12,
   "metadata": {},
   "outputs": [],
   "source": [
    "def creeIMG(ligne = 2 , colonne = 2):\n",
    "    return np.random.randint(256,size =(3,ligne,colonne))\n",
    "\n",
    "def affiche_histo(hist , titre = ''):\n",
    "    if len(hist)> 1 :\n",
    "        histo, bin_edges = hist\n",
    "    histo = hist\n",
    "    bin_centers = (bin_edges[:-1] + bin_edges[1:]) / 2\n",
    "    plt.bar(bin_centers, histo, width=bin_edges[1] - bin_edges[0], edgecolor='black', color='blue')\n",
    "\n",
    "    plt.title('histogramme de '+titre)\n",
    "    plt.xlabel('Valeur')\n",
    "    plt.ylabel('Fréquence')\n",
    "\n",
    "    plt.show()"
   ]
  },
  {
   "cell_type": "code",
   "execution_count": 13,
   "metadata": {},
   "outputs": [
    {
     "data": {
      "text/plain": [
       "array([[[173,  87,  57],\n",
       "        [160, 156, 249],\n",
       "        [ 30,  46,  28]],\n",
       "\n",
       "       [[ 10, 114, 203],\n",
       "        [214, 221,   6],\n",
       "        [100, 115, 254]],\n",
       "\n",
       "       [[234, 177, 206],\n",
       "        [151, 111, 160],\n",
       "        [152, 111, 247]]])"
      ]
     },
     "execution_count": 13,
     "metadata": {},
     "output_type": "execute_result"
    }
   ],
   "source": [
    "img = creeIMG(3,3)\n",
    "img"
   ]
  },
  {
   "cell_type": "markdown",
   "metadata": {},
   "source": [
    "Histograme couleur niveaux de gris"
   ]
  },
  {
   "cell_type": "code",
   "execution_count": 14,
   "metadata": {},
   "outputs": [
    {
     "data": {
      "text/plain": [
       "2"
      ]
     },
     "execution_count": 14,
     "metadata": {},
     "output_type": "execute_result"
    }
   ],
   "source": [
    "def histogramme(img , density = False):\n",
    "    return np.histogram(img ,bins = 256 , range =(0,255),density=density)\n",
    "\n",
    "len(histogramme(img))\n",
    "#affiche_histo(histo_gris(img) , 'niveaux des gris')"
   ]
  },
  {
   "cell_type": "markdown",
   "metadata": {},
   "source": [
    "histogramme RGB"
   ]
  },
  {
   "cell_type": "code",
   "execution_count": 15,
   "metadata": {},
   "outputs": [
    {
     "name": "stdout",
     "output_type": "stream",
     "text": [
      "[0 0 0 0 0 0 0 0 0 0 1 0 0 0 0 0 0 0 0 0 0 0 0 0 0 0 0 0 0 0 1 0 0 0 0 0 0\n",
      " 0 0 0 0 0 0 0 0 0 0 0 0 0 0 0 0 0 0 0 0 0 0 0 0 0 0 0 0 0 0 0 0 0 0 0 0 0\n",
      " 0 0 0 0 0 0 0 0 0 0 0 0 0 0 0 0 0 0 0 0 0 0 0 0 0 0 1 0 0 0 0 0 0 0 0 0 0\n",
      " 0 0 0 0 0 0 0 0 0 0 0 0 0 0 0 0 0 0 0 0 0 0 0 0 0 0 0 0 0 0 0 0 0 0 0 0 0\n",
      " 0 0 0 1 1 0 0 0 0 0 0 0 1 0 0 0 0 0 0 0 0 0 0 0 0 1 0 0 0 0 0 0 0 0 0 0 0\n",
      " 0 0 0 0 0 0 0 0 0 0 0 0 0 0 0 0 0 0 0 0 0 0 0 0 0 0 0 0 0 1 0 0 0 0 0 0 0\n",
      " 0 0 0 0 0 0 0 0 0 0 0 0 1 0 0 0 0 0 0 0 0 0 0 0 0 0 0 0 0 0 0 0 0 0]\n"
     ]
    }
   ],
   "source": [
    "def histo_rgb(img, density=False):\n",
    "    # Séparer les canaux de couleur (R, G, B)\n",
    "    hist_r, _ = np.histogram(img[:, :, 0], bins=256, range=(0, 255), density=density)\n",
    "    hist_g, _ = np.histogram(img[:, :, 1], bins=256, range=(0, 255), density=density)\n",
    "    hist_b, _ = np.histogram(img[:, :, 2], bins=256, range=(0, 255), density=density)\n",
    "    \n",
    "    # Retourner les histogrammes pour chaque canal\n",
    "    return np.array([hist_r, hist_g, hist_b])\n",
    "rouge = histo_rgb(img)[0]\n",
    "print(rouge)\n",
    "#affiche_histo(histo_rgb(rouge) ,'Rouge')"
   ]
  },
  {
   "cell_type": "markdown",
   "metadata": {},
   "source": [
    "projection de RGB vers image indexée"
   ]
  },
  {
   "cell_type": "code",
   "execution_count": 16,
   "metadata": {},
   "outputs": [
    {
     "data": {
      "text/plain": [
       "array([[ 1., 15., 12., 32.],\n",
       "       [32., 12.,  7., 34.],\n",
       "       [ 0.,  3.,  6., 32.]])"
      ]
     },
     "execution_count": 16,
     "metadata": {},
     "output_type": "execute_result"
    }
   ],
   "source": [
    "test = np.array([[[215,192,7,12],[48,39,136,0],[4,191,48,7]],[[42,255,182,10],[30,150,200,90],[9,78,222,0]],[[13,48,50,130],[130,48,0,150],[0,0,0,130] ]] , dtype=int)\n",
    "\n",
    "def index(img,QR,QV,QB):\n",
    "    #calculer les pas\n",
    "    pr ,pv,pb = 256/QR,256/QV,256/QB\n",
    "    #les indexes de chaque pixel le pixel [0] à pour index (1,0,0) voir photo\n",
    "    indexesR = np.array(img[0,:,:])//pr\n",
    "    indexesV = np.array(img[1,:,:])//pv\n",
    "    indexesB = np.array(img[2,:,:])//pb\n",
    "\n",
    "    return (indexesB*QR*QV) + (indexesV*QR)+ indexesR\n",
    "\n",
    "index(test,2,4,8)\n",
    "\n",
    "\n",
    "\n"
   ]
  },
  {
   "cell_type": "code",
   "execution_count": 17,
   "metadata": {},
   "outputs": [
    {
     "data": {
      "text/plain": [
       "[79.61111111111111, 78.83290266893562, 8.5, 48.0, 139.5]"
      ]
     },
     "execution_count": 17,
     "metadata": {},
     "output_type": "execute_result"
    }
   ],
   "source": [
    "def stats(img):\n",
    "    return [np.mean(img),np.std(img),np.percentile(img,25),np.median(img),np.percentile(img,75)]\n",
    "\n",
    "stats(test)"
   ]
  },
  {
   "cell_type": "code",
   "execution_count": 18,
   "metadata": {},
   "outputs": [],
   "source": [
    "from PIL import Image"
   ]
  },
  {
   "cell_type": "code",
   "execution_count": 19,
   "metadata": {},
   "outputs": [
    {
     "name": "stdout",
     "output_type": "stream",
     "text": [
      "<PIL.JpegImagePlugin.JpegImageFile image mode=RGB size=225x225 at 0x113D3C8C290>\n",
      "(225, 225, 3)\n"
     ]
    },
    {
     "data": {
      "image/png": "[encoded data removed]",
      "text/plain": [
       "<Figure size 640x480 with 1 Axes>"
      ]
     },
     "metadata": {},
     "output_type": "display_data"
    },
    {
     "name": "stdout",
     "output_type": "stream",
     "text": [
      "(3, 225, 225)\n"
     ]
    }
   ],
   "source": [
    "img= Image.open(\"C:/Users/mrall/OneDrive/Bureau/M2/Traitement image/Projet/interface/mysite/data/BD_images/Ananas_8/image081.jpg\")\n",
    "\n",
    "print(img)\n",
    "def convert_image(imgreel):\n",
    "    tab=np.array(imgreel)\n",
    "    return tab.transpose(2,0,1)\n",
    "\n",
    "def convert_image_back(imgreel):\n",
    "    tab=np.array(imgreel)\n",
    "    return tab.transpose(1,2,0)\n",
    "print(np.array(img).shape)\n",
    "plt.subplot(1, 2, 2)\n",
    "plt.imshow(img,cmap='gray')\n",
    "plt.axis('off')\n",
    "plt.show()\n",
    "print(convert_image(img).shape)\n",
    "\n"
   ]
  },
  {
   "cell_type": "code",
   "execution_count": 41,
   "metadata": {},
   "outputs": [
    {
     "name": "stdout",
     "output_type": "stream",
     "text": [
      "(1161, 1203, 4)\n",
      "[[[  0   0   0   0]\n",
      "  [  0   0   0   0]\n",
      "  [  0   0   0   0]\n",
      "  ...\n",
      "  [  0   0   0   0]\n",
      "  [  0   0   0   0]\n",
      "  [  0   0   0   0]]\n",
      "\n",
      " [[  0   0   0   0]\n",
      "  [  0   0   0   0]\n",
      "  [  0   0   0   0]\n",
      "  ...\n",
      "  [  0   0   0   0]\n",
      "  [  0   0   0   0]\n",
      "  [  0   0   0   0]]\n",
      "\n",
      " [[  0   0   0   0]\n",
      "  [  0   0   0   0]\n",
      "  [  0   0   0   0]\n",
      "  ...\n",
      "  [  0   0   0   0]\n",
      "  [  0   0   0   0]\n",
      "  [  0   0   0   0]]\n",
      "\n",
      " ...\n",
      "\n",
      " [[187 239  98 255]\n",
      "  [188 240  98 255]\n",
      "  [188 240  98 255]\n",
      "  ...\n",
      "  [188 240  98 255]\n",
      "  [188 240  98 255]\n",
      "  [188 240  98 255]]\n",
      "\n",
      " [[182 230 102 253]\n",
      "  [187 239  98 255]\n",
      "  [188 239  98 255]\n",
      "  ...\n",
      "  [188 240  98 255]\n",
      "  [188 240  98 255]\n",
      "  [188 240  98 255]]\n",
      "\n",
      " [[171 211 109 250]\n",
      "  [180 226 103 253]\n",
      "  [184 232  99 254]\n",
      "  ...\n",
      "  [188 240  98 255]\n",
      "  [188 240  98 255]\n",
      "  [188 240  98 255]]]\n",
      "mysite\\data\\BD_images\\Mococos_27\\image274.png\n",
      "(891, 891, 4)\n",
      "[[[0 0 0 0]\n",
      "  [0 0 0 0]\n",
      "  [0 0 0 0]\n",
      "  ...\n",
      "  [0 0 0 0]\n",
      "  [0 0 0 0]\n",
      "  [0 0 0 0]]\n",
      "\n",
      " [[0 0 0 0]\n",
      "  [0 0 0 0]\n",
      "  [0 0 0 0]\n",
      "  ...\n",
      "  [0 0 0 0]\n",
      "  [0 0 0 0]\n",
      "  [0 0 0 0]]\n",
      "\n",
      " [[0 0 0 0]\n",
      "  [0 0 0 0]\n",
      "  [0 0 0 0]\n",
      "  ...\n",
      "  [0 0 0 0]\n",
      "  [0 0 0 0]\n",
      "  [0 0 0 0]]\n",
      "\n",
      " ...\n",
      "\n",
      " [[0 0 0 0]\n",
      "  [0 0 0 0]\n",
      "  [0 0 0 0]\n",
      "  ...\n",
      "  [0 0 0 0]\n",
      "  [0 0 0 0]\n",
      "  [0 0 0 0]]\n",
      "\n",
      " [[0 0 0 0]\n",
      "  [0 0 0 0]\n",
      "  [0 0 0 0]\n",
      "  ...\n",
      "  [0 0 0 0]\n",
      "  [0 0 0 0]\n",
      "  [0 0 0 0]]\n",
      "\n",
      " [[0 0 0 0]\n",
      "  [0 0 0 0]\n",
      "  [0 0 0 0]\n",
      "  ...\n",
      "  [0 0 0 0]\n",
      "  [0 0 0 0]\n",
      "  [0 0 0 0]]]\n",
      "mysite\\data\\BD_images\\Mococos_27\\image275.png\n",
      "(995, 1498, 4)\n",
      "[[[255 255 255   0]\n",
      "  [255 255 255   0]\n",
      "  [255 255 255   0]\n",
      "  ...\n",
      "  [255 255 255   0]\n",
      "  [255 255 255   0]\n",
      "  [255 255 255   0]]\n",
      "\n",
      " [[255 255 255   0]\n",
      "  [255 255 255   0]\n",
      "  [255 255 255   0]\n",
      "  ...\n",
      "  [255 255 255   0]\n",
      "  [255 255 255   0]\n",
      "  [255 255 255   0]]\n",
      "\n",
      " [[255 255 255   0]\n",
      "  [255 255 255   0]\n",
      "  [255 255 255   0]\n",
      "  ...\n",
      "  [255 255 255   0]\n",
      "  [255 255 255   0]\n",
      "  [255 255 255   0]]\n",
      "\n",
      " ...\n",
      "\n",
      " [[255 255 255   0]\n",
      "  [255 255 255   0]\n",
      "  [255 255 255   0]\n",
      "  ...\n",
      "  [255 255 255   0]\n",
      "  [255 255 255   0]\n",
      "  [255 255 255   0]]\n",
      "\n",
      " [[255 255 255   0]\n",
      "  [255 255 255   0]\n",
      "  [255 255 255   0]\n",
      "  ...\n",
      "  [255 255 255   0]\n",
      "  [255 255 255   0]\n",
      "  [255 255 255   0]]\n",
      "\n",
      " [[255 255 255   0]\n",
      "  [255 255 255   0]\n",
      "  [255 255 255   0]\n",
      "  ...\n",
      "  [255 255 255   0]\n",
      "  [255 255 255   0]\n",
      "  [255 255 255   0]]]\n",
      "mysite\\data\\BD_images\\Oranges_7\\image071.jpg\n",
      "(599, 781, 4)\n",
      "[[[255 255 255   0]\n",
      "  [255 255 255   0]\n",
      "  [255 255 255   0]\n",
      "  ...\n",
      "  [255 255 255   0]\n",
      "  [255 255 255   0]\n",
      "  [255 255 255   0]]\n",
      "\n",
      " [[255 255 255   0]\n",
      "  [255 255 255   0]\n",
      "  [255 255 255   0]\n",
      "  ...\n",
      "  [255 255 255   0]\n",
      "  [255 255 255   0]\n",
      "  [255 255 255   0]]\n",
      "\n",
      " [[255 255 255   0]\n",
      "  [255 255 255   0]\n",
      "  [255 255 255   0]\n",
      "  ...\n",
      "  [255 255 255   0]\n",
      "  [255 255 255   0]\n",
      "  [255 255 255   0]]\n",
      "\n",
      " ...\n",
      "\n",
      " [[255 255 255   0]\n",
      "  [255 255 255   0]\n",
      "  [255 255 255   0]\n",
      "  ...\n",
      "  [255 255 255   0]\n",
      "  [255 255 255   0]\n",
      "  [255 255 255   0]]\n",
      "\n",
      " [[255 255 255   0]\n",
      "  [255 255 255   0]\n",
      "  [255 255 255   0]\n",
      "  ...\n",
      "  [255 255 255   0]\n",
      "  [255 255 255   0]\n",
      "  [255 255 255   0]]\n",
      "\n",
      " [[255 255 255   0]\n",
      "  [255 255 255   0]\n",
      "  [255 255 255   0]\n",
      "  ...\n",
      "  [255 255 255   0]\n",
      "  [255 255 255   0]\n",
      "  [255 255 255   0]]]\n",
      "mysite\\data\\BD_images\\Oranges_7\\image073.jpg\n"
     ]
    },
    {
     "data": {
      "text/plain": [
       "'\\ndef calculs(liste):\\n    images = [Image.open(image_path) for image_path in liste]\\n    espaces= list(map(convert.convert_image ,images))\\n    realIMGS = list(map(convert.rgb_2_grayUNI , espaces))\\n    vecteurs = [histogramme(x,density=True) for x in realIMGS]\\n    data = {nom_image: vecteur for nom_image, vecteur in zip(images, vecteurs)}\\n    \\n    # Générer le fichier JSON\\n    with open(\\'histNGnorm.json\\', \\'w\\') as json_file:\\n        json.dump(data, json_file, indent=4)\\n    \\n    print(\"Le fichier JSON a été créé avec succès.\")\\n\\ncalculs(get_images_from_directories())\\n'"
      ]
     },
     "execution_count": 41,
     "metadata": {},
     "output_type": "execute_result"
    }
   ],
   "source": [
    "import os\n",
    "import mysite.polls.couleurs_convert as convert\n",
    "import json\n",
    "def get_images_from_directories():\n",
    "    base_dir = os.path.join('mysite', 'data', 'BD_images')  # Chemin vers le répertoire contenant les images\n",
    "    image_files = []\n",
    "\n",
    "    # Parcourir le répertoire et ses sous-répertoires\n",
    "    for root, dirs, files in os.walk(base_dir):\n",
    "        for file in files:\n",
    "            # Vérifier si le fichier est une image (par exemple .jpg, .png, etc.)\n",
    "            if file.lower().endswith(('.png', '.jpg', '.jpeg', '.gif')):\n",
    "                image_path = os.path.join(root, file)\n",
    "                image_files.append(image_path)\n",
    "\n",
    "    return image_files\n",
    "\n",
    "\n",
    "liste = []\n",
    "\n",
    "for x in get_images_from_directories():\n",
    "    y = Image.open(x)\n",
    "    yarray = np.array(y)\n",
    "    if y.format == 'PNG' and yarray.ndim ==2 :\n",
    "        y=y.convert('RGB')\n",
    "\n",
    "    liste.append(y)\n",
    "for i in range(len(liste)):\n",
    "    if np.array(liste[i]).ndim == 3 and np.array(liste[i]).shape[2] == 4 :\n",
    "        print(np.array(liste[i]).shape)\n",
    "        print(np.array(liste[i]))\n",
    "        print(get_images_from_directories()[i])\n",
    "    \n",
    "    \n",
    "            \n",
    "\n",
    "\"\"\"\n",
    "def calculs(liste):\n",
    "    images = [Image.open(image_path) for image_path in liste]\n",
    "    espaces= list(map(convert.convert_image ,images))\n",
    "    realIMGS = list(map(convert.rgb_2_grayUNI , espaces))\n",
    "    vecteurs = [histogramme(x,density=True) for x in realIMGS]\n",
    "    data = {nom_image: vecteur for nom_image, vecteur in zip(images, vecteurs)}\n",
    "    \n",
    "    # Générer le fichier JSON\n",
    "    with open('histNGnorm.json', 'w') as json_file:\n",
    "        json.dump(data, json_file, indent=4)\n",
    "    \n",
    "    print(\"Le fichier JSON a été créé avec succès.\")\n",
    "\n",
    "calculs(get_images_from_directories())\n",
    "\"\"\""
   ]
  },
  {
   "cell_type": "code",
   "execution_count": null,
   "metadata": {},
   "outputs": [],
   "source": [
    "\n",
    "         rgb_2_grayUNI,\n",
    "         rgb_2_gray601,\n",
    "         rgb_2_gray709,\n",
    "       : rgb_2_yiq,\n",
    "       : rgb_2_yuv,\n",
    "       : rgb_to_I1I2I3,\n",
    "         RGB_to_NormalizedRGB,\n",
    "       : RGB_to_HSV,\n",
    "       : RGB_to_HSL,\n",
    "       : RGB_to_LAB,\n",
    "       : RGB_to_LUV,\n",
    "       : RGB_to_CMYK,"
   ]
  }
 ],
 "metadata": {
  "kernelspec": {
   "display_name": "base",
   "language": "python",
   "name": "python3"
  },
  "language_info": {
   "codemirror_mode": {
    "name": "ipython",
    "version": 3
   },
   "file_extension": ".py",
   "mimetype": "text/x-python",
   "name": "python",
   "nbconvert_exporter": "python",
   "pygments_lexer": "ipython3",
   "version": "3.11.5"
  }
 },
 "nbformat": 4,
 "nbformat_minor": 2
}
